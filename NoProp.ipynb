{
  "nbformat": 4,
  "nbformat_minor": 0,
  "metadata": {
    "colab": {
      "provenance": [],
      "gpuType": "T4",
      "authorship_tag": "ABX9TyOg0HFF5C/8CLWLLGaczBlp",
      "include_colab_link": true
    },
    "kernelspec": {
      "name": "python3",
      "display_name": "Python 3"
    },
    "language_info": {
      "name": "python"
    },
    "accelerator": "GPU"
  },
  "cells": [
    {
      "cell_type": "markdown",
      "metadata": {
        "id": "view-in-github",
        "colab_type": "text"
      },
      "source": [
        "<a href=\"https://colab.research.google.com/github/Sid3503/NoProp/blob/main/NoProp.ipynb\" target=\"_parent\"><img src=\"https://colab.research.google.com/assets/colab-badge.svg\" alt=\"Open In Colab\"/></a>"
      ]
    },
    {
      "cell_type": "markdown",
      "source": [
        "# Setup Libraries"
      ],
      "metadata": {
        "id": "zCu1mXACaKdx"
      }
    },
    {
      "cell_type": "code",
      "execution_count": 1,
      "metadata": {
        "colab": {
          "base_uri": "https://localhost:8080/"
        },
        "id": "mve5S0YE-oeM",
        "outputId": "2503536e-6b14-403c-c38e-b64dd36983bf"
      },
      "outputs": [
        {
          "output_type": "stream",
          "name": "stdout",
          "text": [
            "Requirement already satisfied: torch in /usr/local/lib/python3.11/dist-packages (2.6.0+cu124)\n",
            "Requirement already satisfied: torchvision in /usr/local/lib/python3.11/dist-packages (0.21.0+cu124)\n",
            "Requirement already satisfied: filelock in /usr/local/lib/python3.11/dist-packages (from torch) (3.18.0)\n",
            "Requirement already satisfied: typing-extensions>=4.10.0 in /usr/local/lib/python3.11/dist-packages (from torch) (4.13.0)\n",
            "Requirement already satisfied: networkx in /usr/local/lib/python3.11/dist-packages (from torch) (3.4.2)\n",
            "Requirement already satisfied: jinja2 in /usr/local/lib/python3.11/dist-packages (from torch) (3.1.6)\n",
            "Requirement already satisfied: fsspec in /usr/local/lib/python3.11/dist-packages (from torch) (2025.3.2)\n",
            "Collecting nvidia-cuda-nvrtc-cu12==12.4.127 (from torch)\n",
            "  Downloading nvidia_cuda_nvrtc_cu12-12.4.127-py3-none-manylinux2014_x86_64.whl.metadata (1.5 kB)\n",
            "Collecting nvidia-cuda-runtime-cu12==12.4.127 (from torch)\n",
            "  Downloading nvidia_cuda_runtime_cu12-12.4.127-py3-none-manylinux2014_x86_64.whl.metadata (1.5 kB)\n",
            "Collecting nvidia-cuda-cupti-cu12==12.4.127 (from torch)\n",
            "  Downloading nvidia_cuda_cupti_cu12-12.4.127-py3-none-manylinux2014_x86_64.whl.metadata (1.6 kB)\n",
            "Collecting nvidia-cudnn-cu12==9.1.0.70 (from torch)\n",
            "  Downloading nvidia_cudnn_cu12-9.1.0.70-py3-none-manylinux2014_x86_64.whl.metadata (1.6 kB)\n",
            "Collecting nvidia-cublas-cu12==12.4.5.8 (from torch)\n",
            "  Downloading nvidia_cublas_cu12-12.4.5.8-py3-none-manylinux2014_x86_64.whl.metadata (1.5 kB)\n",
            "Collecting nvidia-cufft-cu12==11.2.1.3 (from torch)\n",
            "  Downloading nvidia_cufft_cu12-11.2.1.3-py3-none-manylinux2014_x86_64.whl.metadata (1.5 kB)\n",
            "Collecting nvidia-curand-cu12==10.3.5.147 (from torch)\n",
            "  Downloading nvidia_curand_cu12-10.3.5.147-py3-none-manylinux2014_x86_64.whl.metadata (1.5 kB)\n",
            "Collecting nvidia-cusolver-cu12==11.6.1.9 (from torch)\n",
            "  Downloading nvidia_cusolver_cu12-11.6.1.9-py3-none-manylinux2014_x86_64.whl.metadata (1.6 kB)\n",
            "Collecting nvidia-cusparse-cu12==12.3.1.170 (from torch)\n",
            "  Downloading nvidia_cusparse_cu12-12.3.1.170-py3-none-manylinux2014_x86_64.whl.metadata (1.6 kB)\n",
            "Requirement already satisfied: nvidia-cusparselt-cu12==0.6.2 in /usr/local/lib/python3.11/dist-packages (from torch) (0.6.2)\n",
            "Requirement already satisfied: nvidia-nccl-cu12==2.21.5 in /usr/local/lib/python3.11/dist-packages (from torch) (2.21.5)\n",
            "Requirement already satisfied: nvidia-nvtx-cu12==12.4.127 in /usr/local/lib/python3.11/dist-packages (from torch) (12.4.127)\n",
            "Collecting nvidia-nvjitlink-cu12==12.4.127 (from torch)\n",
            "  Downloading nvidia_nvjitlink_cu12-12.4.127-py3-none-manylinux2014_x86_64.whl.metadata (1.5 kB)\n",
            "Requirement already satisfied: triton==3.2.0 in /usr/local/lib/python3.11/dist-packages (from torch) (3.2.0)\n",
            "Requirement already satisfied: sympy==1.13.1 in /usr/local/lib/python3.11/dist-packages (from torch) (1.13.1)\n",
            "Requirement already satisfied: mpmath<1.4,>=1.1.0 in /usr/local/lib/python3.11/dist-packages (from sympy==1.13.1->torch) (1.3.0)\n",
            "Requirement already satisfied: numpy in /usr/local/lib/python3.11/dist-packages (from torchvision) (2.0.2)\n",
            "Requirement already satisfied: pillow!=8.3.*,>=5.3.0 in /usr/local/lib/python3.11/dist-packages (from torchvision) (11.1.0)\n",
            "Requirement already satisfied: MarkupSafe>=2.0 in /usr/local/lib/python3.11/dist-packages (from jinja2->torch) (3.0.2)\n",
            "Downloading nvidia_cublas_cu12-12.4.5.8-py3-none-manylinux2014_x86_64.whl (363.4 MB)\n",
            "\u001b[2K   \u001b[90m━━━━━━━━━━━━━━━━━━━━━━━━━━━━━━━━━━━━━━━━\u001b[0m \u001b[32m363.4/363.4 MB\u001b[0m \u001b[31m4.2 MB/s\u001b[0m eta \u001b[36m0:00:00\u001b[0m\n",
            "\u001b[?25hDownloading nvidia_cuda_cupti_cu12-12.4.127-py3-none-manylinux2014_x86_64.whl (13.8 MB)\n",
            "\u001b[2K   \u001b[90m━━━━━━━━━━━━━━━━━━━━━━━━━━━━━━━━━━━━━━━━\u001b[0m \u001b[32m13.8/13.8 MB\u001b[0m \u001b[31m53.9 MB/s\u001b[0m eta \u001b[36m0:00:00\u001b[0m\n",
            "\u001b[?25hDownloading nvidia_cuda_nvrtc_cu12-12.4.127-py3-none-manylinux2014_x86_64.whl (24.6 MB)\n",
            "\u001b[2K   \u001b[90m━━━━━━━━━━━━━━━━━━━━━━━━━━━━━━━━━━━━━━━━\u001b[0m \u001b[32m24.6/24.6 MB\u001b[0m \u001b[31m58.0 MB/s\u001b[0m eta \u001b[36m0:00:00\u001b[0m\n",
            "\u001b[?25hDownloading nvidia_cuda_runtime_cu12-12.4.127-py3-none-manylinux2014_x86_64.whl (883 kB)\n",
            "\u001b[2K   \u001b[90m━━━━━━━━━━━━━━━━━━━━━━━━━━━━━━━━━━━━━━━━\u001b[0m \u001b[32m883.7/883.7 kB\u001b[0m \u001b[31m45.9 MB/s\u001b[0m eta \u001b[36m0:00:00\u001b[0m\n",
            "\u001b[?25hDownloading nvidia_cudnn_cu12-9.1.0.70-py3-none-manylinux2014_x86_64.whl (664.8 MB)\n",
            "\u001b[2K   \u001b[90m━━━━━━━━━━━━━━━━━━━━━━━━━━━━━━━━━━━━━━━━\u001b[0m \u001b[32m664.8/664.8 MB\u001b[0m \u001b[31m837.9 kB/s\u001b[0m eta \u001b[36m0:00:00\u001b[0m\n",
            "\u001b[?25hDownloading nvidia_cufft_cu12-11.2.1.3-py3-none-manylinux2014_x86_64.whl (211.5 MB)\n",
            "\u001b[2K   \u001b[90m━━━━━━━━━━━━━━━━━━━━━━━━━━━━━━━━━━━━━━━━\u001b[0m \u001b[32m211.5/211.5 MB\u001b[0m \u001b[31m6.1 MB/s\u001b[0m eta \u001b[36m0:00:00\u001b[0m\n",
            "\u001b[?25hDownloading nvidia_curand_cu12-10.3.5.147-py3-none-manylinux2014_x86_64.whl (56.3 MB)\n",
            "\u001b[2K   \u001b[90m━━━━━━━━━━━━━━━━━━━━━━━━━━━━━━━━━━━━━━━━\u001b[0m \u001b[32m56.3/56.3 MB\u001b[0m \u001b[31m12.8 MB/s\u001b[0m eta \u001b[36m0:00:00\u001b[0m\n",
            "\u001b[?25hDownloading nvidia_cusolver_cu12-11.6.1.9-py3-none-manylinux2014_x86_64.whl (127.9 MB)\n",
            "\u001b[2K   \u001b[90m━━━━━━━━━━━━━━━━━━━━━━━━━━━━━━━━━━━━━━━━\u001b[0m \u001b[32m127.9/127.9 MB\u001b[0m \u001b[31m9.2 MB/s\u001b[0m eta \u001b[36m0:00:00\u001b[0m\n",
            "\u001b[?25hDownloading nvidia_cusparse_cu12-12.3.1.170-py3-none-manylinux2014_x86_64.whl (207.5 MB)\n",
            "\u001b[2K   \u001b[90m━━━━━━━━━━━━━━━━━━━━━━━━━━━━━━━━━━━━━━━━\u001b[0m \u001b[32m207.5/207.5 MB\u001b[0m \u001b[31m5.7 MB/s\u001b[0m eta \u001b[36m0:00:00\u001b[0m\n",
            "\u001b[?25hDownloading nvidia_nvjitlink_cu12-12.4.127-py3-none-manylinux2014_x86_64.whl (21.1 MB)\n",
            "\u001b[2K   \u001b[90m━━━━━━━━━━━━━━━━━━━━━━━━━━━━━━━━━━━━━━━━\u001b[0m \u001b[32m21.1/21.1 MB\u001b[0m \u001b[31m92.1 MB/s\u001b[0m eta \u001b[36m0:00:00\u001b[0m\n",
            "\u001b[?25hInstalling collected packages: nvidia-nvjitlink-cu12, nvidia-curand-cu12, nvidia-cufft-cu12, nvidia-cuda-runtime-cu12, nvidia-cuda-nvrtc-cu12, nvidia-cuda-cupti-cu12, nvidia-cublas-cu12, nvidia-cusparse-cu12, nvidia-cudnn-cu12, nvidia-cusolver-cu12\n",
            "  Attempting uninstall: nvidia-nvjitlink-cu12\n",
            "    Found existing installation: nvidia-nvjitlink-cu12 12.5.82\n",
            "    Uninstalling nvidia-nvjitlink-cu12-12.5.82:\n",
            "      Successfully uninstalled nvidia-nvjitlink-cu12-12.5.82\n",
            "  Attempting uninstall: nvidia-curand-cu12\n",
            "    Found existing installation: nvidia-curand-cu12 10.3.6.82\n",
            "    Uninstalling nvidia-curand-cu12-10.3.6.82:\n",
            "      Successfully uninstalled nvidia-curand-cu12-10.3.6.82\n",
            "  Attempting uninstall: nvidia-cufft-cu12\n",
            "    Found existing installation: nvidia-cufft-cu12 11.2.3.61\n",
            "    Uninstalling nvidia-cufft-cu12-11.2.3.61:\n",
            "      Successfully uninstalled nvidia-cufft-cu12-11.2.3.61\n",
            "  Attempting uninstall: nvidia-cuda-runtime-cu12\n",
            "    Found existing installation: nvidia-cuda-runtime-cu12 12.5.82\n",
            "    Uninstalling nvidia-cuda-runtime-cu12-12.5.82:\n",
            "      Successfully uninstalled nvidia-cuda-runtime-cu12-12.5.82\n",
            "  Attempting uninstall: nvidia-cuda-nvrtc-cu12\n",
            "    Found existing installation: nvidia-cuda-nvrtc-cu12 12.5.82\n",
            "    Uninstalling nvidia-cuda-nvrtc-cu12-12.5.82:\n",
            "      Successfully uninstalled nvidia-cuda-nvrtc-cu12-12.5.82\n",
            "  Attempting uninstall: nvidia-cuda-cupti-cu12\n",
            "    Found existing installation: nvidia-cuda-cupti-cu12 12.5.82\n",
            "    Uninstalling nvidia-cuda-cupti-cu12-12.5.82:\n",
            "      Successfully uninstalled nvidia-cuda-cupti-cu12-12.5.82\n",
            "  Attempting uninstall: nvidia-cublas-cu12\n",
            "    Found existing installation: nvidia-cublas-cu12 12.5.3.2\n",
            "    Uninstalling nvidia-cublas-cu12-12.5.3.2:\n",
            "      Successfully uninstalled nvidia-cublas-cu12-12.5.3.2\n",
            "  Attempting uninstall: nvidia-cusparse-cu12\n",
            "    Found existing installation: nvidia-cusparse-cu12 12.5.1.3\n",
            "    Uninstalling nvidia-cusparse-cu12-12.5.1.3:\n",
            "      Successfully uninstalled nvidia-cusparse-cu12-12.5.1.3\n",
            "  Attempting uninstall: nvidia-cudnn-cu12\n",
            "    Found existing installation: nvidia-cudnn-cu12 9.3.0.75\n",
            "    Uninstalling nvidia-cudnn-cu12-9.3.0.75:\n",
            "      Successfully uninstalled nvidia-cudnn-cu12-9.3.0.75\n",
            "  Attempting uninstall: nvidia-cusolver-cu12\n",
            "    Found existing installation: nvidia-cusolver-cu12 11.6.3.83\n",
            "    Uninstalling nvidia-cusolver-cu12-11.6.3.83:\n",
            "      Successfully uninstalled nvidia-cusolver-cu12-11.6.3.83\n",
            "Successfully installed nvidia-cublas-cu12-12.4.5.8 nvidia-cuda-cupti-cu12-12.4.127 nvidia-cuda-nvrtc-cu12-12.4.127 nvidia-cuda-runtime-cu12-12.4.127 nvidia-cudnn-cu12-9.1.0.70 nvidia-cufft-cu12-11.2.1.3 nvidia-curand-cu12-10.3.5.147 nvidia-cusolver-cu12-11.6.1.9 nvidia-cusparse-cu12-12.3.1.170 nvidia-nvjitlink-cu12-12.4.127\n"
          ]
        }
      ],
      "source": [
        "!pip install torch torchvision"
      ]
    },
    {
      "cell_type": "code",
      "source": [
        "import torch\n",
        "import torch.nn as nn\n",
        "import torch.optim as optim\n",
        "from torchvision import datasets, transforms\n",
        "from torch.utils.data import DataLoader"
      ],
      "metadata": {
        "id": "ZoxseEX7_Fy1"
      },
      "execution_count": 2,
      "outputs": []
    },
    {
      "cell_type": "markdown",
      "source": [
        "# Hyperparameters"
      ],
      "metadata": {
        "id": "nxES-OQfaZaF"
      }
    },
    {
      "cell_type": "code",
      "source": [
        "# Hyperparameters\n",
        "T = 10  # Diffusion steps\n",
        "embed_dim = 10  # Label embedding dimension(No. of Classes)\n",
        "batch_size = 128\n",
        "lr = 0.001\n",
        "epochs = 50"
      ],
      "metadata": {
        "id": "GApOWb8K_QbC"
      },
      "execution_count": 22,
      "outputs": []
    },
    {
      "cell_type": "code",
      "source": [
        "# Noise schedule (linear)\n",
        "alpha = torch.linspace(1.0, 0.1, T)  # α_t from 1.0 → 0.1"
      ],
      "metadata": {
        "id": "vzSRvuN-_QUv"
      },
      "execution_count": 4,
      "outputs": []
    },
    {
      "cell_type": "code",
      "source": [
        "print(alpha)"
      ],
      "metadata": {
        "colab": {
          "base_uri": "https://localhost:8080/"
        },
        "id": "Sqfg91HP_QSx",
        "outputId": "10d03ab1-b7ad-4d32-92fc-47d80b4aae24"
      },
      "execution_count": 6,
      "outputs": [
        {
          "output_type": "stream",
          "name": "stdout",
          "text": [
            "tensor([1.0000, 0.9000, 0.8000, 0.7000, 0.6000, 0.5000, 0.4000, 0.3000, 0.2000,\n",
            "        0.1000])\n"
          ]
        }
      ]
    },
    {
      "cell_type": "markdown",
      "source": [
        "# Setting Up Models"
      ],
      "metadata": {
        "id": "eeZ3MSd3adhn"
      }
    },
    {
      "cell_type": "code",
      "source": [
        "# MLP for denoising\n",
        "class DenoisingMLP(nn.Module):\n",
        "    def __init__(self):\n",
        "        super().__init__()\n",
        "        self.mlp = nn.Sequential(\n",
        "            nn.Linear(128 + embed_dim, 256),  # Input: image features + noisy label\n",
        "            nn.ReLU(),\n",
        "            nn.Linear(256, embed_dim)        # Output: denoised label\n",
        "        )\n",
        "\n",
        "    def forward(self, x_features, z_t):\n",
        "        combined = torch.cat([x_features, z_t], dim=1)\n",
        "        return self.mlp(combined)"
      ],
      "metadata": {
        "id": "uJ26Tb7Z_QQR"
      },
      "execution_count": 7,
      "outputs": []
    },
    {
      "cell_type": "code",
      "source": [
        "# CNN for image features\n",
        "class CNN(nn.Module):\n",
        "    def __init__(self):\n",
        "        super().__init__()\n",
        "        self.features = nn.Sequential(\n",
        "            nn.Conv2d(1, 32, 3, 1),\n",
        "            nn.ReLU(),\n",
        "            nn.MaxPool2d(2),\n",
        "            nn.Conv2d(32, 64, 3, 1),\n",
        "            nn.ReLU(),\n",
        "            nn.MaxPool2d(2),\n",
        "            nn.Flatten(),\n",
        "            nn.Linear(1600, 128)  # MNIST: 28x28 → 1600-dim\n",
        "        )\n",
        "\n",
        "    def forward(self, x):\n",
        "        return self.features(x)"
      ],
      "metadata": {
        "id": "JDYgzrdr_tsx"
      },
      "execution_count": 8,
      "outputs": []
    },
    {
      "cell_type": "code",
      "source": [
        "# Initialize models\n",
        "cnn = CNN()\n",
        "mlps = nn.ModuleList([DenoisingMLP() for _ in range(T)])  # One MLP per layer\n",
        "optimizers = [optim.Adam(mlp.parameters(), lr=lr) for mlp in mlps]"
      ],
      "metadata": {
        "id": "bTXUdHIm_wEw"
      },
      "execution_count": 9,
      "outputs": []
    },
    {
      "cell_type": "code",
      "source": [
        "cnn"
      ],
      "metadata": {
        "colab": {
          "base_uri": "https://localhost:8080/"
        },
        "id": "3c_c5vIBaE1o",
        "outputId": "348103a5-19c8-4a99-db33-d5997ab6a314"
      },
      "execution_count": 55,
      "outputs": [
        {
          "output_type": "execute_result",
          "data": {
            "text/plain": [
              "CNN(\n",
              "  (features): Sequential(\n",
              "    (0): Conv2d(1, 32, kernel_size=(3, 3), stride=(1, 1))\n",
              "    (1): ReLU()\n",
              "    (2): MaxPool2d(kernel_size=2, stride=2, padding=0, dilation=1, ceil_mode=False)\n",
              "    (3): Conv2d(32, 64, kernel_size=(3, 3), stride=(1, 1))\n",
              "    (4): ReLU()\n",
              "    (5): MaxPool2d(kernel_size=2, stride=2, padding=0, dilation=1, ceil_mode=False)\n",
              "    (6): Flatten(start_dim=1, end_dim=-1)\n",
              "    (7): Linear(in_features=1600, out_features=128, bias=True)\n",
              "  )\n",
              ")"
            ]
          },
          "metadata": {},
          "execution_count": 55
        }
      ]
    },
    {
      "cell_type": "code",
      "source": [
        "mlps"
      ],
      "metadata": {
        "colab": {
          "base_uri": "https://localhost:8080/"
        },
        "id": "uwA8rRCqaF4C",
        "outputId": "47eed38e-48ce-4186-a945-d0f0795f1f95"
      },
      "execution_count": 56,
      "outputs": [
        {
          "output_type": "execute_result",
          "data": {
            "text/plain": [
              "ModuleList(\n",
              "  (0-9): 10 x DenoisingMLP(\n",
              "    (mlp): Sequential(\n",
              "      (0): Linear(in_features=138, out_features=256, bias=True)\n",
              "      (1): ReLU()\n",
              "      (2): Linear(in_features=256, out_features=10, bias=True)\n",
              "    )\n",
              "  )\n",
              ")"
            ]
          },
          "metadata": {},
          "execution_count": 56
        }
      ]
    },
    {
      "cell_type": "markdown",
      "source": [
        "# Preparing Dataset"
      ],
      "metadata": {
        "id": "TY3BUc9Dah44"
      }
    },
    {
      "cell_type": "code",
      "source": [
        "# Load MNIST\n",
        "transform = transforms.ToTensor()\n",
        "train_data = datasets.MNIST(root='./data', train=True, download=True, transform=transform)\n",
        "train_loader = DataLoader(train_data, batch_size=batch_size, shuffle=True)"
      ],
      "metadata": {
        "colab": {
          "base_uri": "https://localhost:8080/"
        },
        "id": "zZAWOkNB_xuF",
        "outputId": "3acd5dba-09e9-40a9-cd8c-16e8a87d6ffc"
      },
      "execution_count": 10,
      "outputs": [
        {
          "output_type": "stream",
          "name": "stderr",
          "text": [
            "100%|██████████| 9.91M/9.91M [00:02<00:00, 4.56MB/s]\n",
            "100%|██████████| 28.9k/28.9k [00:00<00:00, 65.1kB/s]\n",
            "100%|██████████| 1.65M/1.65M [00:01<00:00, 1.26MB/s]\n",
            "100%|██████████| 4.54k/4.54k [00:00<00:00, 6.77MB/s]\n"
          ]
        }
      ]
    },
    {
      "cell_type": "markdown",
      "source": [
        "# Training"
      ],
      "metadata": {
        "id": "0lgU9EC0amwQ"
      }
    },
    {
      "cell_type": "markdown",
      "source": [
        "---\n",
        "\n",
        "### **NoProp Training Dry Run (1 Epoch Example)**\n",
        "\n",
        "\n",
        "# 🧪 NoProp Training Dry Run (1 Epoch)\n",
        "\n",
        "Let's simulate **one epoch** of training with:\n",
        "- Batch size = 3\n",
        "- Classes = 3 (\"cat\", \"dog\", \"bird\")\n",
        "- Diffusion steps (T) = 2\n",
        "\n",
        "## 📥 Batch Data\n",
        "**Input (x):** 3 images  \n",
        "**Labels (y):** [\"cat\"=0, \"dog\"=1, \"bird\"=2]  \n",
        "→ One-hot encoded `u_y`:\n",
        "```\n",
        "tensor([\n",
        " [1., 0., 0.],  # cat\n",
        " [0., 1., 0.],  # dog\n",
        " [0., 0., 1.]   # bird\n",
        "])\n",
        "```\n",
        "\n",
        "---\n",
        "\n",
        "## 🌪️ Forward Diffusion (Corrupt Labels)\n",
        "**Noise schedule (α):** [α₀=1.0, α₁=0.6, α₂=0.3]  \n",
        "1. **t=0:** `z₀ = u_y` (clean)\n",
        "\n",
        "2. **t=1:**  \n",
        "   `z₁ = √0.6*z₀ + √0.4*noise` ≈\n",
        "```\n",
        "tensor([\n",
        " [0.77, 0.20, 0.03],  # noisy cat\n",
        " [0.10, 0.85, 0.05],  # noisy dog\n",
        " [0.05, 0.10, 0.85]   # noisy bird\n",
        "])\n",
        "```\n",
        "\n",
        "\n",
        "3. **t=2:**  \n",
        "   `z₂ = √0.3*z₁ + √0.7*noise` ≈\n",
        "\n",
        "```\n",
        "tensor([\n",
        " [0.40, 0.35, 0.25],  # very noisy cat\n",
        " [0.25, 0.45, 0.30],  # very noisy dog\n",
        " [0.20, 0.25, 0.55]   # very noisy bird\n",
        "])\n",
        "```\n",
        "\n",
        "---\n",
        "\n",
        "**Example for MLP1 (t=1):**\n",
        "- **Input:** Image features + `z₁ = [0.77,0.20,0.03]` (noisy cat)\n",
        "- **Prediction:** `[0.9, 0.1, 0.0]` (should approach `[1,0,0]`)\n",
        "- **Loss:** MSE([0.9,0.1,0.0], [1,0,0]) = 0.01\n",
        "\n",
        "## 🔄 Weight Updates\n",
        "1. Sum losses from all MLPs → `total_loss`\n",
        "2. Backpropagate → Update all MLPs independently\n",
        "\n",
        "## 📊 Epoch Output\n",
        "`Epoch 1/10 | Avg Loss: 0.85`  \n",
        "*(Loss decreases as MLPs learn to denoise better)*\n",
        "\n",
        "---\n",
        "\n",
        "### **Key Takeaways**\n",
        "1. **Diffusion**: Labels are progressively noised from clean → random.\n",
        "2. **Specialization**: Each MLP handles a specific noise level.\n",
        "3. **Independence**: No backprop between layers → parallel training."
      ],
      "metadata": {
        "id": "HjthYG3JddhO"
      }
    },
    {
      "cell_type": "code",
      "source": [
        "# Training loop\n",
        "for epoch in range(epochs):\n",
        "    epoch_loss = 0.0\n",
        "    batch_count = 0\n",
        "\n",
        "    for x, y in train_loader:\n",
        "        current_batch_size = x.shape[0]\n",
        "        u_y = torch.zeros(current_batch_size, embed_dim).scatter_(1, y.unsqueeze(1), 1)\n",
        "\n",
        "        # Forward diffusion(Adding Noise for each 'T')\n",
        "        z = [u_y]\n",
        "        for t in range(1, T + 1):\n",
        "            eps = torch.randn_like(u_y)\n",
        "            z_t = torch.sqrt(alpha[t-1]) * z[-1] + torch.sqrt(1 - alpha[t-1]) * eps\n",
        "            z.append(z_t)\n",
        "\n",
        "        # Train MLPs\n",
        "        x_features = cnn(x)\n",
        "        losses = []\n",
        "        for t in range(T):\n",
        "            u_hat = mlps[t](x_features, z[t+1].detach())\n",
        "            losses.append(torch.mean((u_hat - u_y) ** 2))\n",
        "\n",
        "        total_loss = sum(losses)\n",
        "        for opt in optimizers:\n",
        "            opt.zero_grad()\n",
        "        total_loss.backward()\n",
        "        for opt in optimizers:\n",
        "            opt.step()\n",
        "\n",
        "        epoch_loss += total_loss.item()\n",
        "        batch_count += 1\n",
        "\n",
        "    # Epoch summary print\n",
        "    avg_loss = epoch_loss / batch_count\n",
        "    print(f\"Epoch {epoch+1}/{epochs} | Avg Loss: {avg_loss:.4f}\")\n",
        "\n",
        "# Final message\n",
        "print(\"Training complete!\")"
      ],
      "metadata": {
        "colab": {
          "base_uri": "https://localhost:8080/"
        },
        "id": "KtGT_c1H_y9r",
        "outputId": "2ae2430a-4e96-4e08-9ce6-1e7bc7b719ed"
      },
      "execution_count": 23,
      "outputs": [
        {
          "output_type": "stream",
          "name": "stdout",
          "text": [
            "Epoch 1/50 | Avg Loss: 0.0835\n",
            "Epoch 2/50 | Avg Loss: 0.0819\n",
            "Epoch 3/50 | Avg Loss: 0.0806\n",
            "Epoch 4/50 | Avg Loss: 0.0791\n",
            "Epoch 5/50 | Avg Loss: 0.0778\n",
            "Epoch 6/50 | Avg Loss: 0.0766\n",
            "Epoch 7/50 | Avg Loss: 0.0753\n",
            "Epoch 8/50 | Avg Loss: 0.0744\n",
            "Epoch 9/50 | Avg Loss: 0.0734\n",
            "Epoch 10/50 | Avg Loss: 0.0725\n",
            "Epoch 11/50 | Avg Loss: 0.0714\n",
            "Epoch 12/50 | Avg Loss: 0.0706\n",
            "Epoch 13/50 | Avg Loss: 0.0700\n",
            "Epoch 14/50 | Avg Loss: 0.0692\n",
            "Epoch 15/50 | Avg Loss: 0.0685\n",
            "Epoch 16/50 | Avg Loss: 0.0677\n",
            "Epoch 17/50 | Avg Loss: 0.0671\n",
            "Epoch 18/50 | Avg Loss: 0.0664\n",
            "Epoch 19/50 | Avg Loss: 0.0660\n",
            "Epoch 20/50 | Avg Loss: 0.0654\n",
            "Epoch 21/50 | Avg Loss: 0.0648\n",
            "Epoch 22/50 | Avg Loss: 0.0643\n",
            "Epoch 23/50 | Avg Loss: 0.0637\n",
            "Epoch 24/50 | Avg Loss: 0.0631\n",
            "Epoch 25/50 | Avg Loss: 0.0627\n",
            "Epoch 26/50 | Avg Loss: 0.0621\n",
            "Epoch 27/50 | Avg Loss: 0.0617\n",
            "Epoch 28/50 | Avg Loss: 0.0615\n",
            "Epoch 29/50 | Avg Loss: 0.0614\n",
            "Epoch 30/50 | Avg Loss: 0.0604\n",
            "Epoch 31/50 | Avg Loss: 0.0600\n",
            "Epoch 32/50 | Avg Loss: 0.0596\n",
            "Epoch 33/50 | Avg Loss: 0.0594\n",
            "Epoch 34/50 | Avg Loss: 0.0589\n",
            "Epoch 35/50 | Avg Loss: 0.0588\n",
            "Epoch 36/50 | Avg Loss: 0.0583\n",
            "Epoch 37/50 | Avg Loss: 0.0581\n",
            "Epoch 38/50 | Avg Loss: 0.0577\n",
            "Epoch 39/50 | Avg Loss: 0.0575\n",
            "Epoch 40/50 | Avg Loss: 0.0570\n",
            "Epoch 41/50 | Avg Loss: 0.0568\n",
            "Epoch 42/50 | Avg Loss: 0.0564\n",
            "Epoch 43/50 | Avg Loss: 0.0562\n",
            "Epoch 44/50 | Avg Loss: 0.0560\n",
            "Epoch 45/50 | Avg Loss: 0.0558\n",
            "Epoch 46/50 | Avg Loss: 0.0555\n",
            "Epoch 47/50 | Avg Loss: 0.0552\n",
            "Epoch 48/50 | Avg Loss: 0.0551\n",
            "Epoch 49/50 | Avg Loss: 0.0548\n",
            "Epoch 50/50 | Avg Loss: 0.0545\n",
            "Training complete!\n"
          ]
        }
      ]
    },
    {
      "cell_type": "markdown",
      "source": [
        "# Inferencing"
      ],
      "metadata": {
        "id": "kGrsvukHaqGX"
      }
    },
    {
      "cell_type": "code",
      "source": [
        "# Inference (denoising)\n",
        "def predict(x):\n",
        "    z_t = torch.randn(1, embed_dim)  # Start from noise\n",
        "    x_features = cnn(x.unsqueeze(0))\n",
        "    for t in reversed(range(T)):\n",
        "        u_hat = mlps[t](x_features, z_t)\n",
        "        z_t = torch.sqrt(alpha[t]) * u_hat + torch.sqrt(1 - alpha[t]) * torch.randn_like(u_hat)\n",
        "    return torch.argmax(z_t)  # Final prediction"
      ],
      "metadata": {
        "id": "LINA1yBV_0XH"
      },
      "execution_count": 24,
      "outputs": []
    },
    {
      "cell_type": "code",
      "source": [
        "# Test on an example\n",
        "x_test, y_test = next(iter(train_loader))\n",
        "pred = predict(x_test[0])\n",
        "print(f\"Predicted: {pred}, True: {y_test[0]}\")"
      ],
      "metadata": {
        "colab": {
          "base_uri": "https://localhost:8080/"
        },
        "id": "Qs8kIZcb_0Tp",
        "outputId": "8823f70e-d3f6-4eb8-c2a6-bd771136c828"
      },
      "execution_count": 48,
      "outputs": [
        {
          "output_type": "stream",
          "name": "stdout",
          "text": [
            "Predicted: 1, True: 1\n"
          ]
        }
      ]
    },
    {
      "cell_type": "code",
      "source": [
        "import matplotlib.pyplot as plt\n",
        "import numpy as np\n",
        "\n",
        "def plot_prediction(x, true_label, pred_label, class_names=None):\n",
        "    \"\"\"\n",
        "    Plot image with true and predicted labels.\n",
        "\n",
        "    Args:\n",
        "        x (torch.Tensor): Input image tensor (1, C, H, W)\n",
        "        true_label (int): Ground truth class index\n",
        "        pred_label (int): Predicted class index\n",
        "        class_names (list): Optional list of class names\n",
        "    \"\"\"\n",
        "    # Convert tensor to numpy and denormalize if needed\n",
        "    img = x.squeeze().cpu().numpy()\n",
        "    if img.min() < 0 or img.max() > 1:  # Assuming [0,1] or [-1,1] range\n",
        "        img = (img - img.min()) / (img.max() - img.min())\n",
        "\n",
        "    # Create figure\n",
        "    plt.figure(figsize=(6, 3))\n",
        "\n",
        "    # Plot image\n",
        "    plt.subplot(1, 2, 1)\n",
        "    plt.imshow(img, cmap='gray' if img.ndim == 2 else None)\n",
        "    plt.axis('off')\n",
        "    plt.title('Input Image', pad=10)\n",
        "\n",
        "    # Plot labels\n",
        "    plt.subplot(1, 2, 2)\n",
        "    plt.axis('off')\n",
        "\n",
        "    if class_names:\n",
        "        true_str = f\"True: {class_names[true_label]} ({true_label})\"\n",
        "        pred_str = f\"Predicted: {class_names[pred_label]} ({pred_label})\"\n",
        "    else:\n",
        "        true_str = f\"True label: {true_label}\"\n",
        "        pred_str = f\"Predicted: {pred_label}\"\n",
        "\n",
        "    plt.text(0.1, 0.7, true_str, fontsize=12, color='green')\n",
        "    plt.text(0.1, 0.5, pred_str,\n",
        "             fontsize=12,\n",
        "             color='red' if true_label != pred_label else 'green')\n",
        "\n",
        "    # Highlight incorrect predictions\n",
        "    if true_label != pred_label:\n",
        "        plt.text(0.1, 0.3, \"INCORRECT\", fontsize=14, color='red', weight='bold')\n",
        "\n",
        "    plt.tight_layout()\n",
        "    plt.show()"
      ],
      "metadata": {
        "id": "XTHv45S5_0RO"
      },
      "execution_count": 29,
      "outputs": []
    },
    {
      "cell_type": "code",
      "source": [
        "# Example usage with MNIST\n",
        "class_names = [str(i) for i in range(10)]  # ['0', '1', ..., '9']\n",
        "x_test, y_test = next(iter(train_loader))\n",
        "pred = predict(x_test[0])\n",
        "\n",
        "plot_prediction(x_test[0],\n",
        "               y_test[0].item(),\n",
        "               pred.item(),\n",
        "               class_names)"
      ],
      "metadata": {
        "colab": {
          "base_uri": "https://localhost:8080/",
          "height": 316
        },
        "id": "WK1nzjCt_0O-",
        "outputId": "d3afcc0a-d137-4ad0-dec9-e1a7fe0faa07"
      },
      "execution_count": 57,
      "outputs": [
        {
          "output_type": "display_data",
          "data": {
            "text/plain": [
              "<Figure size 600x300 with 2 Axes>"
            ],
            "image/png": "[encoded data removed]"
          },
          "metadata": {}
        }
      ]
    },
    {
      "cell_type": "code",
      "source": [],
      "metadata": {
        "id": "nGEr22BecAXl"
      },
      "execution_count": null,
      "outputs": []
    }
  ]
}
